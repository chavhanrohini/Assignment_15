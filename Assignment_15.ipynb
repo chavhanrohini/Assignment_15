{
 "cells": [
  {
   "cell_type": "markdown",
   "id": "8d02d6c8",
   "metadata": {},
   "source": [
    "## 1. How many seconds are in an hour? Use the interactive interpreter as a calculator and multiply the number of seconds in a minute (60) by the number of minutes in an hour (also 60).\n",
    "\n",
    "   Answer: There are 3600 seconds in an hour (60 seconds/minute * 60 minutes/hour).\n",
    "\n"
   ]
  },
  {
   "cell_type": "markdown",
   "id": "f0d771a0",
   "metadata": {},
   "source": [
    "## 2. Assign the result from the previous task (seconds in an hour) to a variable called seconds_per_hour.\n",
    "\n",
    "   Answer:\n"
   ]
  },
  {
   "cell_type": "code",
   "execution_count": 1,
   "id": "67c750a7",
   "metadata": {},
   "outputs": [],
   "source": [
    "seconds_per_hour = 60 * 60  # 3600 seconds"
   ]
  },
  {
   "cell_type": "markdown",
   "id": "bb001dd1",
   "metadata": {},
   "source": [
    "## 3. How many seconds do you think there are in a day? Make use of the variables seconds per hour and minutes per hour.\n",
    "   Answer: There are 86,400 seconds in a day (60 minutes/hour * 60 seconds/minute * 24 hours/day)."
   ]
  },
  {
   "cell_type": "markdown",
   "id": "2bea57c3",
   "metadata": {},
   "source": [
    "## 4. Calculate seconds per day again, but this time save the result in a variable called seconds_per_day.\n",
    "   Answer:"
   ]
  },
  {
   "cell_type": "code",
   "execution_count": 3,
   "id": "d670e4dc",
   "metadata": {},
   "outputs": [],
   "source": [
    "   seconds_per_day = seconds_per_hour * 24  # 86,400 seconds"
   ]
  },
  {
   "cell_type": "markdown",
   "id": "5c73d7b2",
   "metadata": {},
   "source": [
    "## 5. Divide seconds_per_day by seconds_per_hour. Use floating-point (/) division.\n",
    "\n",
    "   Answer:\n"
   ]
  },
  {
   "cell_type": "code",
   "execution_count": 5,
   "id": "4ecdedc6",
   "metadata": {},
   "outputs": [],
   "source": [
    "   result_float_division = seconds_per_day / seconds_per_hour\n",
    "#The result will be a floating-point number, approximately 24.0, since there are 24 hours in a day"
   ]
  },
  {
   "cell_type": "markdown",
   "id": "aa3d665e",
   "metadata": {},
   "source": [
    "## 6. Divide seconds_per_day by seconds_per_hour, using integer (//) division. Did this number agree with the floating-point value from the previous question, aside from the final .0?"
   ]
  },
  {
   "cell_type": "code",
   "execution_count": 6,
   "id": "314aba09",
   "metadata": {},
   "outputs": [],
   "source": [
    "   #Answer:\n",
    "\n",
    "result_integer_division = seconds_per_day // seconds_per_hour\n"
   ]
  },
  {
   "cell_type": "markdown",
   "id": "219a543b",
   "metadata": {},
   "source": [
    "The result will be an integer, exactly 24. This integer division result agrees with the floating-point value of 24.0, but it doesn't include the decimal part."
   ]
  },
  {
   "cell_type": "markdown",
   "id": "de5d8714",
   "metadata": {},
   "source": [
    "## 7. Write a generator, genPrimes, that returns the sequence of prime numbers on successive calls to its next() method: 2, 3, 5, 7, 11, ...\n",
    "\n",
    "   Answer: Here's a Python generator function that yields prime numbers on successive calls to its `next()` method:\n"
   ]
  },
  {
   "cell_type": "code",
   "execution_count": 12,
   "id": "5272a8b6",
   "metadata": {},
   "outputs": [],
   "source": [
    "def genPrimes():\n",
    "    primes = []  # List to store prime numbers\n",
    "    n = 2        # Start with the first prime number\n",
    "    \n",
    "    while True:\n",
    "        is_prime = all(n % p != 0 for p in primes)  # Check if n is prime\n",
    "        if is_prime:\n",
    "            primes.append(n)  # If n is prime, add it to the list\n",
    "            yield n           # Yield the prime number\n",
    "        n += 1\n"
   ]
  },
  {
   "cell_type": "code",
   "execution_count": 13,
   "id": "9aacec33",
   "metadata": {},
   "outputs": [
    {
     "name": "stdout",
     "output_type": "stream",
     "text": [
      "2\n",
      "3\n",
      "5\n",
      "7\n",
      "11\n"
     ]
    }
   ],
   "source": [
    "# You can use this generator to get a sequence of prime numbers:\n",
    "prime_generator = genPrimes()\n",
    "\n",
    "print(next(prime_generator))  # Output: 2\n",
    "print(next(prime_generator))  # Output: 3\n",
    "print(next(prime_generator))  # Output: 5\n",
    "print(next(prime_generator))  # Output: 7\n",
    "print(next(prime_generator))  # Output: 11\n"
   ]
  },
  {
   "cell_type": "code",
   "execution_count": null,
   "id": "46fb7987",
   "metadata": {},
   "outputs": [],
   "source": []
  }
 ],
 "metadata": {
  "kernelspec": {
   "display_name": "Python 3 (ipykernel)",
   "language": "python",
   "name": "python3"
  },
  "language_info": {
   "codemirror_mode": {
    "name": "ipython",
    "version": 3
   },
   "file_extension": ".py",
   "mimetype": "text/x-python",
   "name": "python",
   "nbconvert_exporter": "python",
   "pygments_lexer": "ipython3",
   "version": "3.9.12"
  }
 },
 "nbformat": 4,
 "nbformat_minor": 5
}
